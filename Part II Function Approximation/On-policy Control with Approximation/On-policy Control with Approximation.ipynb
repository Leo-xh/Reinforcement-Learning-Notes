{
 "cells": [
  {
   "cell_type": "markdown",
   "metadata": {},
   "source": [
    "### On-policy Control with Approximation\n",
    "\n",
    "#### Average Reward\n",
    "\n",
    "Consider the policy that achieve the maximal average reward the optimal.\n",
    "\n",
    "#### Undiscounted vs. Discounted\n",
    "\n",
    "Since the **lost** of the **policy imporvement theorem**, the discount factor $\\gamma$ does not matter.\n",
    "\n"
   ]
  }
 ],
 "metadata": {
  "kernelspec": {
   "display_name": "Python 3",
   "language": "python",
   "name": "python3"
  },
  "language_info": {
   "codemirror_mode": {
    "name": "ipython",
    "version": 3
   },
   "file_extension": ".py",
   "mimetype": "text/x-python",
   "name": "python",
   "nbconvert_exporter": "python",
   "pygments_lexer": "ipython3",
   "version": "3.6.2"
  }
 },
 "nbformat": 4,
 "nbformat_minor": 2
}
