{
 "cells": [
  {
   "cell_type": "markdown",
   "metadata": {},
   "source": [
    "### Eligibility Trajectory\n",
    "\n",
    "\n",
    "\n",
    "#### TD($\\lambda$)\n",
    "![TD($\\lambda$)](./assets/TD-lambda.png)\n",
    "\n",
    "$G_t^{\\lambda} = (1-\\lambda)\\sum_{n=1}^{\\infty}\\lambda^{n-1}G_{t}^{(n)}$\n",
    "\n",
    "#### Redoing Updates\n",
    "\n",
    "redoing all the updates from the beginning of the episode.\n",
    "\n",
    "#### True Online TD($\\lambda$)\n",
    "\n",
    "a less computation expensive way.\n",
    "\n",
    "#### Different Traces\n",
    "|trace|condition|\n",
    "|:-|:-:|\n",
    "|accumulating trace|nonlinear function|\n",
    "|dutch trace|better than replacing trace|\n",
    "|replacing trace||\n",
    "\n",
    "#### $\\lambda$ and $\\gamma$\n",
    "\n",
    "#### Tree Backup($\\lambda$)\n",
    "\n"
   ]
  }
 ],
 "metadata": {
  "kernelspec": {
   "display_name": "Python 3",
   "language": "python",
   "name": "python3"
  },
  "language_info": {
   "codemirror_mode": {
    "name": "ipython",
    "version": 3
   },
   "file_extension": ".py",
   "mimetype": "text/x-python",
   "name": "python",
   "nbconvert_exporter": "python",
   "pygments_lexer": "ipython3",
   "version": "3.6.2"
  }
 },
 "nbformat": 4,
 "nbformat_minor": 2
}
