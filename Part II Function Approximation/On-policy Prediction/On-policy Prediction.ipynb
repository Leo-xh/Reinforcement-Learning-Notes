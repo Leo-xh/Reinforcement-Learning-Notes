{
 "cells": [
  {
   "cell_type": "markdown",
   "metadata": {},
   "source": [
    "### On-policy Prediction\n",
    "\n",
    "Function approximation is an instance of *supervised larning*.\n",
    "\n",
    "#### Basic Compenonts\n",
    "+ Prediction Objective($\\overline{VE}$)\n",
    "    $$\n",
    "        \\overline{VE} \\doteq \\sum_{s\\in S}\\mu(s)[v_{\\pi}(s)-\\hat{v}(s,\\boldsymbol{w})]^2\n",
    "    $$\n",
    "+ Distribution\n",
    "    $\\mu{s}$\n",
    "+ Update Method\n",
    "    Stochastic-gradient and Semi-gradient Methods.\n",
    "    \"Semi\" means the assumption that the target is independent of $\\boldsymbol{w}$.\n",
    "\n",
    "#### Selecting Step-Size Parameters Manually\n",
    "\n",
    "$\\alpha \\doteq (\\tau\\mathbb{E}[x^Tx]^{-1})$\n",
    "\n",
    "\n",
    "#### Memory-based Function Approximation\n",
    "\n",
    "Memory-based methods, also called *lazy learning*, save samples and use a set of samples when a query state arrives. The behavior is instead dependent on the training examples themselves.\n",
    "\n",
    "K-d tree is used to accelerate the procedure.\n",
    "\n",
    "#### Kernel-based Function Approximation\n",
    "\n",
    "$$\\hat{v}(s,\\mathbb{D}) = \\sum_{s'\\in \\mathbb{D}}k(s,s')g(s')$$\n",
    "where $\\mathbb{D}$ is the stored data, $g(*)$ is the target for the state in the meomory.\n",
    "\n",
    "#### Interest and Emphasis\n",
    "\n",
    "$M_t = I_t + \\gamma^nM_{t-n}, \\quad 0 \\leq t < T$\n",
    "\n",
    "$w_{t+n} \\doteq w_{t+n-1} + \\alpha M_{t}[G_{t:t+n} - \\hat{v}(S_t,W_{t+n-1})]\\nabla\\hat{v}(S_t,W_{t+n-1})$"
   ]
  }
 ],
 "metadata": {
  "kernelspec": {
   "display_name": "Python 3",
   "language": "python",
   "name": "python3"
  },
  "language_info": {
   "codemirror_mode": {
    "name": "ipython",
    "version": 3
   },
   "file_extension": ".py",
   "mimetype": "text/x-python",
   "name": "python",
   "nbconvert_exporter": "python",
   "pygments_lexer": "ipython3",
   "version": "3.6.2"
  }
 },
 "nbformat": 4,
 "nbformat_minor": 2
}
