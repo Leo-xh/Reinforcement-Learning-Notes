{
 "cells": [
  {
   "cell_type": "markdown",
   "metadata": {},
   "source": [
    "### Model-Based RL\n",
    "\n",
    "#### Advantages\n",
    "+ efficiently learn by supervised learning methods\n",
    "+ reason about model uncertainty\n",
    "#### Disadvantages\n",
    "+ learning model and constructing a value function lead to 2 sources of approximation error\n",
    "\n",
    "#### Model Definition\n",
    "+ A representation of an MDP $<S,A,P,R>$, parameterized by $\\eta$.\n",
    "+ model  \n",
    "$$\n",
    "    S_{t+1}\\sim P_{\\eta}(S_{t+1}|S_t,A_t)\n",
    "    $$\n",
    "    $$\n",
    "    R_{t+1}=R_{\\eta}(R_{t+1}|S_t,A_t)\n",
    "    $$\n",
    "\n",
    "+ Assumption about conditional independence between state transitions and rewards.\n",
    "\n",
    "#### Model Learning\n",
    "+ A supervised learning problem\n",
    "    - learning $s,a\\to r$ is a regression problem\n",
    "    - learning $s,a\\to s'$ is a density estimation problem\n",
    "\n",
    "#### Inaccurate Model\n",
    "When the model is inaccurate, planning process will compute\n",
    "a suboptimal policy\n",
    "\n",
    "+ Solution 1: when model is wrong, use model-free RL\n",
    "\n",
    "+ Solution 2: reason explicitly about model uncertainty"
   ]
  },
  {
   "cell_type": "markdown",
   "metadata": {},
   "source": [
    "#### Simulation-Based Search\n",
    "\n",
    "Advanced method, using long-short term memory concept, the real experience as long-term memory, the simulated one as short-term."
   ]
  }
 ],
 "metadata": {
  "kernelspec": {
   "display_name": "Python 3",
   "language": "python",
   "name": "python3"
  },
  "language_info": {
   "codemirror_mode": {
    "name": "ipython",
    "version": 3
   },
   "file_extension": ".py",
   "mimetype": "text/x-python",
   "name": "python",
   "nbconvert_exporter": "python",
   "pygments_lexer": "ipython3",
   "version": "3.6.2"
  }
 },
 "nbformat": 4,
 "nbformat_minor": 2
}
