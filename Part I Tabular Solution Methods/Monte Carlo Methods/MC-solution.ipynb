{
 "cells": [
  {
   "cell_type": "markdown",
   "metadata": {},
   "source": [
    "### MC Solution\n",
    "\n",
    "#### 5.1\n",
    "+ Because the value of 20 and 21 is likelu to win.\n",
    "+ The dealer has a ace, which has big influence.\n",
    "+ Because it is less possible to go bust.\n",
    "\n",
    "#### 5.2\n",
    "The results are expected to be the same, because in this game, there is no state that can appear twice.\n",
    "\n",
    "#### 5.3\n",
    "A chain just like the one given in teh textbook.\n",
    "\n",
    "#### 5.4\n",
    "$$\n",
    "    Q(S_{t},A_{t}) \\leftarrow \\frac{n-1}{n}Q(S_{t},A_{t})+\\frac{1}{n}G\n",
    "$$\n",
    "\n"
   ]
  }
 ],
 "metadata": {
  "kernelspec": {
   "display_name": "Python 3",
   "language": "python",
   "name": "python3"
  },
  "language_info": {
   "codemirror_mode": {
    "name": "ipython",
    "version": 3
   },
   "file_extension": ".py",
   "mimetype": "text/x-python",
   "name": "python",
   "nbconvert_exporter": "python",
   "pygments_lexer": "ipython3",
   "version": "3.6.2"
  }
 },
 "nbformat": 4,
 "nbformat_minor": 2
}
