{
 "cells": [
  {
   "cell_type": "markdown",
   "metadata": {},
   "source": [
    "### TD Solution\n",
    "\n",
    "#### 6.1\n",
    "**Answer**\n",
    "\n",
    "the formula is :\n",
    "$$\n",
    "\\delta_t \\doteq R_{t+1} + \\gamma V_t(S_{t+1}) - V_t(S_t)\n",
    "$$\n",
    "the MC error is : \n",
    "$$\n",
    "\\begin{align*}\n",
    "G_t - V_t(S_t) &= R_{t+1} + \\gamma G_{t+1} - V_t(S_t) \\\\\n",
    "               &= \\delta_{t} + \\gamma[G_{t+1} - V_{t+1}(S_{t+1})] + \\gamma[V_{t+1}(S_{t+1}) - V_t{(S_{t+1})}] \\\\\n",
    "               &= \\delta_{t} + \\gamma[G_{t+1} - V_{t+1}(S_{t+1})] + \\alpha\\gamma[R_{t+2} + \\gamma V_{t}(S_{t+2}) - V_t(S_{t+1})] \\\\\n",
    "               & \\vdots \\\\\n",
    "               & = \\sum_{k=t}^{T-1} \\gamma^{k-t}\\delta_{k} + \\alpha\\sum_{k=t}^{T-2}\\gamma^{k-t+1}[R_{k+2} + \\gamma V_{k}(S_{k+2}) - V_k(S_{k+1})]\n",
    "\\end{align*}\n",
    "$$"
   ]
  }
 ],
 "metadata": {
  "kernelspec": {
   "display_name": "Python 3",
   "language": "python",
   "name": "python3"
  },
  "language_info": {
   "codemirror_mode": {
    "name": "ipython",
    "version": 3
   },
   "file_extension": ".py",
   "mimetype": "text/x-python",
   "name": "python",
   "nbconvert_exporter": "python",
   "pygments_lexer": "ipython3",
   "version": "3.6.2"
  }
 },
 "nbformat": 4,
 "nbformat_minor": 2
}
