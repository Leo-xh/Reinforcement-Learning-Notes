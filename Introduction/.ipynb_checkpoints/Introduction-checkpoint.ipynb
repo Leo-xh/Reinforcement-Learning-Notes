{
 "cells": [
  {
   "cell_type": "markdown",
   "metadata": {},
   "source": [
    "### Introduction to Reinforcement Learning\n",
    "#### Features of RL\n",
    "The two most important features are:\n",
    "+ trial-and-error search\n",
    "+ delayed reward\n",
    "\n",
    "\n",
    "Challenges in RL:\n",
    "+ trade-off between exploration and exploitation\n",
    "\n",
    "Elements of RL:\n",
    "+ a policy\n",
    "+ a reward signal\n",
    "+ a value function\n",
    "+ a model of the environment(optional)\n",
    "\n",
    "    difference bewteen reward signal and value function is that the latter specifies what is good in long run, but the former indicates the immediate payoff.\n",
    "    \n",
    "#### Why not other methods?\n",
    "+ supervised learning: no correct labels in such interactive problems.\n",
    "+ unsupervised learning: the aim is not discover the hidden structure of the data.\n",
    "+ evolutionary(heuristic) methods: these methods ignore some important information, such as the states and actions.The use of value functions distinguishes reinforcement learning methods from evolutionary methods that search directly in policy space guided by evaluations of entire policies.\n"
   ]
  }
 ],
 "metadata": {
  "kernelspec": {
   "display_name": "Python 3",
   "language": "python",
   "name": "python3"
  },
  "language_info": {
   "codemirror_mode": {
    "name": "ipython",
    "version": 3
   },
   "file_extension": ".py",
   "mimetype": "text/x-python",
   "name": "python",
   "nbconvert_exporter": "python",
   "pygments_lexer": "ipython3",
   "version": "3.6.5"
  }
 },
 "nbformat": 4,
 "nbformat_minor": 2
}
