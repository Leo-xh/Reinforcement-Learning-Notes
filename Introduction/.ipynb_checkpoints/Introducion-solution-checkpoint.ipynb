{
 "cells": [
  {
   "cell_type": "markdown",
   "metadata": {},
   "source": [
    "### Chapter One Solution\n",
    "#### 1.1 Self-Play\n",
    "**Answer**\n",
    "    \n",
    "    According to game theory, it is a finite game, thus it must have a Nash equilbrium, either mixed policy or pure policy. \n",
    "    With a more clever opponent, it may learn a different policy.\n",
    "    \n",
    "#### 1.2 Symmetries\n",
    "**Answer**\n",
    "    \n",
    "    Using a appropriate \"state\" and \"action\" to take advantage of symmetry. \n",
    "    Our strategy on whether use the symmetry should be the same with our opponent's.\n",
    "    \n",
    "#### 1.3 Greedy Play\n",
    "**Answer**\n",
    "    \n",
    "    As mention in the book, a challenge of RL is the trade-off between exploration and exploitation. But greedy strategy only exploits and thus this strategy will always have a worse result.\n",
    "    \n",
    "#### 1.4 Learning from Exploration\n",
    "**Answer**\n",
    "    \n",
    "    Without exploration, the learned probabilities can't express the complete distribution of the states and actions.\n",
    "    \n",
    "#### 1.5 Other Improvements\n",
    "**Answer**\n",
    "\n",
    "    Ways to improve:\n",
    "+ Replay, in order to approach the real distribution of states and actions.\n",
    "+ Asynchronous training, speeding up the training.\n",
    "    \n",
    "    As for tic-tac-toe game, the state space is so small that it can be solve be traditional search method such as recursive search and adversarial search."
   ]
  }
 ],
 "metadata": {
  "kernelspec": {
   "display_name": "Python 3",
   "language": "python",
   "name": "python3"
  },
  "language_info": {
   "codemirror_mode": {
    "name": "ipython",
    "version": 3
   },
   "file_extension": ".py",
   "mimetype": "text/x-python",
   "name": "python",
   "nbconvert_exporter": "python",
   "pygments_lexer": "ipython3",
   "version": "3.6.5"
  }
 },
 "nbformat": 4,
 "nbformat_minor": 2
}
